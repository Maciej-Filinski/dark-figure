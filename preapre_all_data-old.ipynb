{
 "cells": [
  {
   "cell_type": "code",
   "execution_count": 1,
   "id": "cd04c70a",
   "metadata": {},
   "outputs": [],
   "source": [
    "import pandas as pd\n",
    "import os\n",
    "import numpy as np\n",
    "import epiweeks\n",
    "import datetime\n",
    "import requests\n",
    "import zipfile\n",
    "import csv\n",
    "from contextlib import ExitStack\n",
    "import progressbar as pbar\n",
    "import matplotlib.pyplot as plt\n",
    "import matplotlib.dates as mdates\n",
    "import json\n",
    "import warnings\n",
    "warnings.filterwarnings('ignore')"
   ]
  },
  {
   "cell_type": "code",
   "execution_count": 2,
   "id": "6eb25164",
   "metadata": {},
   "outputs": [
    {
     "name": "stdout",
     "output_type": "stream",
     "text": [
      "Covid data downloaded\n"
     ]
    }
   ],
   "source": [
    "# Download and unzip covid data\n",
    "ids = {'output_5': '7tnfh',}\n",
    "for data_name, data_id in ids.items():\n",
    "    link = f'https://osf.io/{data_id}/download'\n",
    "    downloaded_data = requests.get(link)\n",
    "    with open('data/tmp.zip', 'wb') as file:\n",
    "        file.write(downloaded_data.content)\n",
    "    with zipfile.ZipFile('data/tmp.zip', 'r') as zip_ref:\n",
    "        zip_ref.extractall('data/')\n",
    "    os.remove('data/tmp.zip')\n",
    "    data_file = f'data/Data/{data_name}.csv'\n",
    "print('Covid data downloaded')"
   ]
  },
  {
   "cell_type": "code",
   "execution_count": 3,
   "id": "b1fb2318",
   "metadata": {},
   "outputs": [
    {
     "name": "stdout",
     "output_type": "stream",
     "text": [
      "Population data downloaded\n",
      "Deaths data downloaded\n"
     ]
    }
   ],
   "source": [
    "# Download data file (population and deaths from Eurostat)\n",
    "population_link = 'https://ec.europa.eu/eurostat/api/dissemination/sdmx/2.1/data/DEMO_R_PJANGROUP/?format=SDMX-CSV&lang=en&label=both'\n",
    "downloaded_data = requests.get(population_link)\n",
    "with open('data/Data/old_population.csv', 'wb') as file:\n",
    "    file.write(downloaded_data.content)\n",
    "print('Population data downloaded')\n",
    "\n",
    "deaths_data_link = 'https://ec.europa.eu/eurostat/api/dissemination/sdmx/2.1/data/DEMO_R_MWK2_05/?format=SDMX-CSV&lang=en&label=both'\n",
    "downloaded_data = requests.get(deaths_data_link)\n",
    "with open('data/Data/old_deaths.csv', 'wb') as file:\n",
    "    file.write(downloaded_data.content)\n",
    "print('Deaths data downloaded')"
   ]
  },
  {
   "cell_type": "code",
   "execution_count": 2,
   "id": "6a20704f",
   "metadata": {},
   "outputs": [],
   "source": [
    "today = datetime.date.today().strftime(\"%d-%m-%Y\")\n",
    "data_dir_path = f'data/World/{today}'\n",
    "if not os.path.exists(f'{data_dir_path}'):\n",
    "    os.mkdir(f'{data_dir_path}')"
   ]
  },
  {
   "cell_type": "code",
   "execution_count": 3,
   "id": "ca597f80",
   "metadata": {},
   "outputs": [
    {
     "name": "stdout",
     "output_type": "stream",
     "text": [
      "Covid files prepared\n"
     ]
    }
   ],
   "source": [
    "data = pd.read_csv('./data/Data/Output_5.csv', encoding='latin-1', skiprows=3)\n",
    "countries = {'Albania': 'AL',\n",
    "             'Austria': 'AT',\n",
    "             'Belgium': 'BE',\n",
    "             'Bulgaria': 'BG',\n",
    "             'Croatia': 'HR',\n",
    "             'Czechia': 'CZ',\n",
    "             'Denmark': 'DK',\n",
    "             'Estonia': 'EE',\n",
    "             'Finland': 'FI',\n",
    "             'France': 'FR',\n",
    "             'Germany': 'DE',\n",
    "             'Greece': 'EL',\n",
    "             'Hungary': 'HU',\n",
    "             'Ireland': 'IE',\n",
    "             'Italy': 'IT',\n",
    "             'Latvia': 'LV',\n",
    "             'Montenegro': 'ME',\n",
    "             'Netherlands': 'NL',\n",
    "             'Norway': 'NO',\n",
    "             'Portugal': 'PT',\n",
    "             'Romania': 'RO',\n",
    "             'Slovakia': 'SK',\n",
    "             'Spain': 'ES',\n",
    "             'Sweden': 'SE',\n",
    "             'Switzerland': 'CH',\n",
    "             'Turkey': 'TR',\n",
    "             'United Kingdom': 'UK',}\n",
    "\n",
    "for country in countries.keys():\n",
    "    fixed_deaths = pd.DataFrame(columns=['Date', 'location', 'location_name', 'Age group', 'Deaths'])\n",
    "    fixed_cases = pd.DataFrame(columns=['Date', 'location', 'location_name', 'Age group', 'Cases'])\n",
    "    \n",
    "    country_data = data[data['Country'] == country]\n",
    "    country_data = country_data[country_data['Region'] == 'All']\n",
    "    country_data = country_data[country_data['Date'].str[-4:-1] == '202']\n",
    "    country_data['Date'] = pd.to_datetime(country_data['Date'], dayfirst=True)\n",
    "    \n",
    "    country_data = country_data[country_data['Sex'] == 'b']\n",
    "    \n",
    "    for age_group in country_data['Age'].unique():\n",
    "        deaths_age_group = country_data[country_data['Age'] == age_group].groupby('Date')['Deaths'].sum().reset_index()\n",
    "        cases_age_group = country_data[country_data['Age'] == age_group].groupby('Date')['Cases'].sum().reset_index()\n",
    "\n",
    "        fixed_deaths_age_group = deaths_age_group['Deaths']\n",
    "        fixed_deaths_age_group.index = deaths_age_group['Date']\n",
    "        fixed_deaths_age_group = fixed_deaths_age_group.resample('D').mean()\n",
    "        fixed_deaths_age_group = fixed_deaths_age_group.interpolate()\n",
    "        \n",
    "        fixed_cases_age_group = cases_age_group['Cases']\n",
    "        fixed_cases_age_group.index = cases_age_group['Date']\n",
    "        fixed_cases_age_group = fixed_cases_age_group.resample('D').mean()\n",
    "        fixed_cases_age_group = fixed_cases_age_group.interpolate()\n",
    "\n",
    "        removed_negative_deaths = np.insert(np.maximum(0, (fixed_deaths_age_group.values[1:] - fixed_deaths_age_group.values[:-1])), 0, 0)\n",
    "        fixed_deaths_age_group = pd.DataFrame(fixed_deaths_age_group)\n",
    "        fixed_deaths_age_group['Deaths'] = removed_negative_deaths\n",
    "        fixed_deaths = fixed_deaths.append(fixed_deaths_age_group.reset_index())\n",
    "        fixed_deaths['location'] = fixed_deaths['location'].fillna(country)\n",
    "        fixed_deaths['location_name'] = fixed_deaths['location_name'].fillna(countries[country])\n",
    "        fixed_deaths['Age group'] = fixed_deaths['Age group'].fillna(f'{age_group:02d}-{age_group + 4:02d}')\n",
    "        \n",
    "        removed_negative_cases = np.insert(np.maximum(0, (fixed_cases_age_group.values[1:] - fixed_cases_age_group.values[:-1])), 0, 0)\n",
    "        fixed_cases_age_group = pd.DataFrame(fixed_cases_age_group)\n",
    "        fixed_cases_age_group['Cases'] = removed_negative_cases\n",
    "        fixed_cases = fixed_cases.append(fixed_cases_age_group.reset_index())\n",
    "        fixed_cases['location'] = fixed_cases['location'].fillna(country)\n",
    "        fixed_cases['location_name'] = fixed_cases['location_name'].fillna(countries[country])\n",
    "        fixed_cases['Age group'] = fixed_cases['Age group'].fillna(f'{age_group:02d}-{age_group + 4:02d}')\n",
    "        \n",
    "    if not os.path.exists(f'{data_dir_path}/{country}'):\n",
    "        os.mkdir(f'{data_dir_path}/{country}')\n",
    "        \n",
    "    fixed_cases = fixed_cases.rename(columns={'Date': 'date', 'Cases': 'value'})\n",
    "    fixed_cases = fixed_cases.append(fixed_cases[fixed_cases['Age group'].isin(['85-89', '90-94', '95-99', '100-104'])].groupby(['date', 'location', 'location_name']).sum().reset_index()).fillna('85+')\n",
    "    fixed_cases = fixed_cases[~fixed_cases['Age group'].isin(['85-89', '90-94', '95-99', '100-104'])].sort_values('date').reset_index(drop=True)\n",
    "    fixed_cases.to_csv(f'{data_dir_path}/{country}/covid_cases.csv')\n",
    "    \n",
    "    fixed_deaths = fixed_deaths.rename(columns={'Date': 'date', 'Deaths': 'value'})\n",
    "    fixed_deaths = fixed_deaths.append(fixed_deaths[fixed_deaths['Age group'].isin(['85-89', '90-94', '95-99', '100-104'])].groupby(['date', 'location', 'location_name']).sum().reset_index()).fillna('85+')\n",
    "    fixed_deaths = fixed_deaths[~fixed_deaths['Age group'].isin(['85-89', '90-94', '95-99', '100-104'])].sort_values('date').reset_index(drop=True)\n",
    "    fixed_deaths.to_csv(f'{data_dir_path}/{country}/covid_deaths.csv')\n",
    "print('Covid files prepared')"
   ]
  },
  {
   "cell_type": "code",
   "execution_count": 6,
   "id": "61fabfe0",
   "metadata": {},
   "outputs": [],
   "source": [
    "read = open('data/Data/old_population.csv', 'r', encoding='utf-8')\n",
    "reader = csv.reader(read)\n",
    "countries = {}\n",
    "for index, row in enumerate(reader):\n",
    "    if index in [0]:\n",
    "        continue\n",
    "    short, country = row[6].split(':')\n",
    "    if len(short) == 2 and country not in countries.keys():\n",
    "        if short == 'DE':\n",
    "            countries['Germany'] = short\n",
    "        else:\n",
    "            countries[country] = short\n",
    "with open(f'{data_dir_path}/eurostat_countries.json', 'w') as file:\n",
    "    json.dump(countries, file, indent=4)"
   ]
  },
  {
   "cell_type": "code",
   "execution_count": 4,
   "id": "f706a8c9",
   "metadata": {},
   "outputs": [
    {
     "name": "stdout",
     "output_type": "stream",
     "text": [
      "Population files prepared\n"
     ]
    }
   ],
   "source": [
    "file_name = 'old_population.csv'\n",
    "with ExitStack() as stack:\n",
    "    writer_dict = {}\n",
    "    for country in countries.keys():\n",
    "        if not os.path.exists(f'{data_dir_path}/{country}'):\n",
    "            os.mkdir(f'{data_dir_path}/{country}')\n",
    "        file_list = stack.enter_context(open(f'{data_dir_path}/{country}/{file_name}', 'w'))\n",
    "        writer_dict[countries[country]] = csv.writer(file_list, delimiter=',')\n",
    "        writer_dict[countries[country]].writerow(['Year', 'Region', 'Age group', 'Sex', 'Value'])\n",
    "    read = stack.enter_context(open('data/Data/old_population.csv', 'r', encoding='utf-8'))\n",
    "    reader = csv.reader(read)\n",
    "    for index, row in enumerate(reader):\n",
    "        if index in [0]:\n",
    "            continue\n",
    "        if row[7] >= str(2015) and row[6][:2] in writer_dict.keys():\n",
    "            writer_dict[row[6][:2]].writerow([row[7], row[6].split(':')[0], row[5].split(':')[0], row[4].split(':')[0], row[8]])\n",
    "print('Population files prepared')"
   ]
  },
  {
   "cell_type": "code",
   "execution_count": 5,
   "id": "8d2a2884",
   "metadata": {},
   "outputs": [
    {
     "name": "stdout",
     "output_type": "stream",
     "text": [
      "Deaths files prepared\n"
     ]
    }
   ],
   "source": [
    "file_name = 'old_deaths.csv'\n",
    "with ExitStack() as stack:\n",
    "    writer_dict = {}\n",
    "    for country in countries.keys():\n",
    "        file_list = stack.enter_context(open(f'{data_dir_path}/{country}/{file_name}', 'w'))\n",
    "        writer_dict[countries[country]] = csv.writer(file_list, delimiter=',')\n",
    "        writer_dict[countries[country]].writerow(['Year', 'Region', 'Age group', 'Sex', 'Value'])\n",
    "    read = stack.enter_context(open('data/Data/old_deaths.csv', 'r', encoding='utf-8'))\n",
    "    reader = csv.reader(read)\n",
    "    for index, row in enumerate(reader):\n",
    "        if index in [0]:\n",
    "            continue\n",
    "        if row[7][:4] >= str(2015) and row[6][:2] in writer_dict.keys():\n",
    "            writer_dict[row[6][:2]].writerow([row[7], row[6].split(':')[0], row[3].split(':')[0], row[4].split(':')[0], row[8]])\n",
    "print('Deaths files prepared')"
   ]
  },
  {
   "cell_type": "code",
   "execution_count": null,
   "id": "de50aae9",
   "metadata": {},
   "outputs": [],
   "source": []
  }
 ],
 "metadata": {
  "kernelspec": {
   "display_name": "Python 3",
   "language": "python",
   "name": "python3"
  },
  "language_info": {
   "codemirror_mode": {
    "name": "ipython",
    "version": 3
   },
   "file_extension": ".py",
   "mimetype": "text/x-python",
   "name": "python",
   "nbconvert_exporter": "python",
   "pygments_lexer": "ipython3",
   "version": "3.8.8"
  }
 },
 "nbformat": 4,
 "nbformat_minor": 5
}
