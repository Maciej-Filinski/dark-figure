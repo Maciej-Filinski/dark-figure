{
 "cells": [
  {
   "cell_type": "code",
   "execution_count": null,
   "metadata": {},
   "outputs": [],
   "source": [
    "import pandas as pd\n",
    "import os\n",
    "import numpy as np\n",
    "import epiweeks\n",
    "import datetime"
   ]
  },
  {
   "cell_type": "code",
   "execution_count": null,
   "metadata": {},
   "outputs": [],
   "source": [
    "    cases_csv = 'https://raw.githubusercontent.com/KITmetricslab/covid19-forecast-hub-de/master/data-truth/RKI/by_age/truth_RKI-Incident%20Cases%20by%20Age_Germany.csv'\n",
    "    cases = pd.read_csv(cases_csv)\n",
    "    cases['age_group'].replace(dict([['A00-A04', '00-04'], ['A05-A14', '05-14'], ['A15-A34', '15-34'],\n",
    "                                      ['A35-A59', '35-59'], ['A60-A79', '60-79'], ['A80+', '80+']]), inplace=True)\n",
    "    cases = cases.rename(columns={'age_group': 'Age group'})\n",
    "    cases"
   ]
  },
  {
   "cell_type": "code",
   "execution_count": null,
   "metadata": {},
   "outputs": [],
   "source": [
    "deaths_csv = 'https://raw.githubusercontent.com/KITmetricslab/covid19-forecast-hub-de/master/data-truth/RKI/by_age/truth_RKI-Incident%20Deaths%20by%20Age_Germany.csv'\n",
    "deaths = pd.read_csv(deaths_csv)\n",
    "deaths.loc[deaths['location_name'] == 'Free State of Thuringia', 'location_name'] = 'Free State of Thüringia'\n",
    "deaths['age_group'].replace(dict([['A00-A04', '00-04'], ['A05-A14', '05-14'], ['A15-A34', '15-34'],\n",
    "                                  ['A35-A59', '35-59'], ['A60-A79', '60-79'], ['A80+', '80+']]), inplace=True)\n",
    "deaths.drop(deaths.loc[deaths['age_group']=='unbekannt'].index, inplace=True)\n",
    "deaths = deaths.rename(columns={'age_group': 'Age group'})\n",
    "deaths\n",
    "    "
   ]
  },
  {
   "cell_type": "code",
   "execution_count": null,
   "metadata": {},
   "outputs": [],
   "source": [
    "locations1 = list(deaths['location_name'].unique())\n",
    "locations2 = ['Total', 'Baden-Württemberg', 'Bayern', 'Bremen', 'Hamburg', 'Hessen', 'Niedersachsen',\n",
    "              'Nordrhein-Westfalen', 'Rheinland-Pfalz', 'Saarland', 'Schleswig-Holstein',\n",
    "              'Brandenburg', 'Mecklenburg-Vorpommern',\n",
    "              'Sachsen', 'Sachsen-Anhalt', 'Thüringen', 'Berlin']\n",
    "all_locations = dict(zip(locations2, locations1))\n",
    "population_excel = './data/Germany/population_2020.xlsx'\n",
    "population = pd.read_excel(population_excel)\n",
    "population.columns = ['Age'] + list(population[3:4].to_numpy()[0][1:])\n",
    "population = population[5:-6].reset_index(drop=True)\n",
    "population = population.rename(columns=all_locations)\n",
    "population"
   ]
  },
  {
   "cell_type": "code",
   "execution_count": null,
   "metadata": {
    "scrolled": true
   },
   "outputs": [],
   "source": [
    "    total_deaths_excel = 'https://www.destatis.de/DE/Themen/Gesellschaft-Umwelt/Bevoelkerung/Sterbefaelle-Lebenserwartung/Tabellen/sonderauswertung-sterbefaelle.xlsx;jsessionid=1A8D9AD59C7B0337F82EF6DBEB7D2749.live721?__blob=publicationFile'\n",
    "    sheet_name = 'BL_2016_2021_KW_AG_Ins'\n",
    "    groupby = ['unter … Jahren']\n",
    "    total_deaths = pd.read_excel(total_deaths_excel, sheet_name=sheet_name)\n",
    "    total_deaths.columns = ['Nr', 'Year', 'Region', 'Age group'] + list(np.arange(1, 54))\n",
    "    total_deaths = total_deaths[8:][total_deaths.columns[1:]].fillna(0).replace('X ', 0).reset_index(drop=True)\n",
    "    total_deaths['Region'].replace(all_locations, inplace=True)\n",
    "    total_deaths['Age group'].replace({'0-65': '00-65', 'Insgesamt': 'Total', '85 u. mehr': '85+'}, inplace=True)\n",
    "    total_deaths\n",
    "    "
   ]
  },
  {
   "cell_type": "code",
   "execution_count": null,
   "metadata": {
    "scrolled": true
   },
   "outputs": [],
   "source": [
    "    population_excel = './data/Germany/population_2015-2019.xlsx'\n",
    "    population_old = pd.read_excel(population_excel)\n",
    "    # population_old = population_old[5:-6].reset_index(drop=True)\n",
    "    population_old.columns = population.columns\n",
    "    prior_populations = dict()\n",
    "    step = len(population) + 1\n",
    "    for start in range(4, 4 + step * 5, step):\n",
    "        population_year = int((population_old[start:start + 1].to_numpy()[0][0])[-4:])\n",
    "        df = population_old[start + 1:start + 1 + len(population)].reset_index(drop=True)\n",
    "        df['Total'] = df[df.columns[1:]].apply(lambda x: sum(x), axis=1)\n",
    "        df['Age'] = population['Age']\n",
    "        df = df.rename(columns=all_locations)\n",
    "        df.index = df['Age']\n",
    "        prior_populations[population_year] = df\n",
    "    prior_populations"
   ]
  },
  {
   "cell_type": "code",
   "execution_count": null,
   "metadata": {
    "scrolled": true
   },
   "outputs": [],
   "source": [
    "prior_populations = dict()\n",
    "step = len(population) + 1\n",
    "for start in range(4, 4 + step * 5, step):\n",
    "    population_year = int((population_old[start:start + 1].to_numpy()[0][0])[-4:])\n",
    "    df = population_old[start + 1:start + 1 + len(population)].reset_index(drop=True)\n",
    "    df['Total'] = df[df.columns[1:]].apply(lambda x: sum(x), axis=1)\n",
    "    df['Age'] = population['Age']\n",
    "    df.index = df['Age']\n",
    "    df = df.rename(columns=all_locations)\n",
    "    prior_populations[population_year] = df\n",
    "prior_populations\n",
    "\n",
    "population['Total'] = population[population.columns[1:]].apply(lambda x: sum(x), axis=1)\n",
    "population.index = population['Age']\n",
    "population.rename(columns={'Total': 'Germany'}, inplace=True)\n",
    "population"
   ]
  },
  {
   "cell_type": "code",
   "execution_count": null,
   "metadata": {},
   "outputs": [],
   "source": [
    "ratios = pd.read_csv('./data/Germany/positive_test_to_death_days_distribution.csv')\n",
    "ratios.index = ratios['offset']\n",
    "ratios = ratios['probs']\n",
    "ratios"
   ]
  },
  {
   "cell_type": "code",
   "execution_count": null,
   "metadata": {},
   "outputs": [],
   "source": [
    "IFRs = {\n",
    "    'O\\'Driscoll': {\n",
    "        '35-59': [0.122, 0.115, 0.128],\n",
    "        '60-79': [0.992, 0.942, 1.045],\n",
    "        '80+': [7.274, 6.909, 7.656]\n",
    "    },\n",
    "    'Verity': {\n",
    "        '35-59': [0.349, 0.194, 0.743],\n",
    "        '60-79': [2.913, 1.670, 5.793],\n",
    "        '80+': [7.800, 3.800, 13.30]\n",
    "    },\n",
    "    'Perez-Saez': {\n",
    "        '35-59': [0.070, 0.047, 0.097],\n",
    "        '60-79': [3.892, 2.985, 5.145],\n",
    "        '80+': [5.600, 4.300, 7.400]\n",
    "    },\n",
    "    'Levin': {\n",
    "        '35-59': [0.226, 0.212, 0.276],\n",
    "        '60-79': [2.491, 2.294, 3.266],\n",
    "        '80+': [15.61, 12.20, 19.50]\n",
    "    },\n",
    "    'Driscoll (ours)': {\n",
    "        '35-59': [0.14307525980551028, 0.16705543901878936, 0.1931643684132524],\n",
    "        '60-79': [1.1965060413135071, 1.3958914443309222, 1.6147912970366503],\n",
    "        '80+': [7.105, 8.292, 9.593]\n",
    "                       }\n",
    "}\n",
    "IFRs = {k: {k1: sorted(np.array(v1) / 100) for k1, v1 in v.items()} for k, v in IFRs.items()}\n",
    "IFRs"
   ]
  },
  {
   "cell_type": "code",
   "execution_count": null,
   "metadata": {
    "scrolled": true
   },
   "outputs": [],
   "source": [
    "locations = list(deaths['location_name'].unique())\n",
    "locations"
   ]
  },
  {
   "cell_type": "code",
   "execution_count": null,
   "metadata": {
    "scrolled": false
   },
   "outputs": [],
   "source": [
    "from module.dark_figure import DarkFigure\n",
    "sim = DarkFigure(deaths, cases, total_deaths, population, prior_populations)\n",
    "sim(locations, IFRs, ratios)"
   ]
  }
 ],
 "metadata": {
  "kernelspec": {
   "display_name": "Python 3",
   "language": "python",
   "name": "python3"
  },
  "language_info": {
   "codemirror_mode": {
    "name": "ipython",
    "version": 3
   },
   "file_extension": ".py",
   "mimetype": "text/x-python",
   "name": "python",
   "nbconvert_exporter": "python",
   "pygments_lexer": "ipython3",
   "version": "3.8.5"
  }
 },
 "nbformat": 4,
 "nbformat_minor": 4
}
