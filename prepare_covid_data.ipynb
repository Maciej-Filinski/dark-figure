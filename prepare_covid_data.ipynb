{
 "cells": [
  {
   "cell_type": "code",
   "execution_count": 1,
   "id": "9b220c7d-df5f-424f-89d4-485a5992a5bc",
   "metadata": {},
   "outputs": [],
   "source": [
    "import pandas as pd\n",
    "import os\n",
    "import numpy as np\n",
    "import epiweeks\n",
    "import datetime\n",
    "import requests\n",
    "import zipfile\n",
    "import csv\n",
    "from contextlib import ExitStack\n",
    "import progressbar as pbar\n",
    "import json\n",
    "import time"
   ]
  },
  {
   "cell_type": "code",
   "execution_count": 2,
   "id": "ad6bb525-ac40-47d1-9718-9b3176e232d5",
   "metadata": {},
   "outputs": [],
   "source": [
    "today = datetime.date.today().strftime(\"%d-%m-%Y\")"
   ]
  },
  {
   "cell_type": "code",
   "execution_count": 3,
   "id": "fe4025f8-911a-47f3-b4ae-0817c5d13ee3",
   "metadata": {},
   "outputs": [
    {
     "name": "stdout",
     "output_type": "stream",
     "text": [
      "https://osf.io/9dsfk/download\n",
      "https://osf.io/7tnfh/download\n",
      "https://osf.io/43ucn/download\n",
      "https://osf.io/qpfw5/download\n",
      "https://osf.io/unf6v/download\n"
     ]
    }
   ],
   "source": [
    "# Download and unzip data file\n",
    "ids = {'inputDB': '9dsfk',\n",
    "       'output_5': '7tnfh',\n",
    "       'output_10': '43ucn',\n",
    "       'quality_metrics': 'qpfw5'}\n",
    "for data_name, data_id in ids.items():\n",
    "    link = f'https://osf.io/{data_id}/download'\n",
    "    print(link)\n",
    "    downloaded_data = requests.get(link)\n",
    "    with open('data/tmp.zip', 'wb') as file:\n",
    "        file.write(downloaded_data.content)\n",
    "    with zipfile.ZipFile('data/tmp.zip', 'r') as zip_ref:\n",
    "        zip_ref.extractall('data/')\n",
    "    os.remove('data/tmp.zip')\n",
    "    data_file = f'data/Data/{data_name}.csv'\n",
    "link = 'https://osf.io/unf6v/download'\n",
    "print(link)\n",
    "downloaded_data = requests.get(link)\n",
    "with open('data/Data/population.csv', 'wb') as file:\n",
    "    file.write(downloaded_data.content)"
   ]
  },
  {
   "cell_type": "code",
   "execution_count": 4,
   "id": "206914cb-aeb0-40b4-9770-5d578bd715f9",
   "metadata": {},
   "outputs": [],
   "source": [
    "data_files = {'inputDB': 'data/Data/inputDB.csv',\n",
    "              'output_5': 'data/Data/output_5.csv',\n",
    "              'output_10': 'data/Data/output_10.csv',\n",
    "              'quality_metrics': 'data/Data/qualityMetrics.csv',\n",
    "              'population': 'data/Data/population.csv'}"
   ]
  },
  {
   "cell_type": "code",
   "execution_count": 5,
   "id": "73e2980e-f9a0-4c65-8563-9fd0e0a8a0e9",
   "metadata": {
    "tags": []
   },
   "outputs": [],
   "source": [
    "# Find country names and the corresponding region names in the file -> {'country name': {'region name': 'region code'}}\n",
    "with open(data_files['inputDB'], 'r') as file:\n",
    "    reader = csv.reader(file)\n",
    "    countries = {}\n",
    "    measure = set()\n",
    "    number_of_rows = 0\n",
    "    columns = None\n",
    "    for index, row in enumerate(reader):\n",
    "        number_of_rows += 1\n",
    "        if index == 1:\n",
    "            columns = row\n",
    "        if index in [0, 1]:\n",
    "            continue\n",
    "        else:\n",
    "            country = row[0]\n",
    "            if row[0] == '1':\n",
    "                continue\n",
    "            if country not in countries.keys():\n",
    "                countries[country] = {row[1]: row[-2]}\n",
    "            else:\n",
    "                countries[row[0]] = {**countries[row[0]], **{row[1]: row[-1]}}\n",
    "            measure.add(row[8])\n"
   ]
  },
  {
   "cell_type": "code",
   "execution_count": 6,
   "id": "f2e94d9b-150d-47da-9eb0-9d01d9cdee16",
   "metadata": {},
   "outputs": [
    {
     "name": "stdout",
     "output_type": "stream",
     "text": [
      "number of countries: 128\n"
     ]
    }
   ],
   "source": [
    "# Preparing dir\n",
    "data_dir_path = f'data/World/{today}'\n",
    "if not os.path.exists(f'{data_dir_path}'):\n",
    "        os.mkdir(f'{data_dir_path}')\n",
    "for country, regions in countries.items():\n",
    "    if not os.path.exists(f'{data_dir_path}/{country}'):\n",
    "        os.mkdir(f'{data_dir_path}/{country}')\n",
    "with open(f'{data_dir_path}/countries.json', 'w') as file:\n",
    "    json.dump(countries, file, indent=4)\n",
    "print(f'number of countries: {len(countries)}')\n",
    "time.sleep(1)"
   ]
  },
  {
   "cell_type": "code",
   "execution_count": 7,
   "id": "c8800b4f-5271-4733-843c-71b742ecfb94",
   "metadata": {},
   "outputs": [],
   "source": [
    "def prepare_data_inputDB():\n",
    "    file_names = ['raw_cases.csv', 'raw_deaths.csv', 'raw_tests.csv', 'all_raw.csv']\n",
    "    countries_inputDB = {}\n",
    "    for key in countries.keys():\n",
    "        if key == '' or key == '1':\n",
    "            continue\n",
    "        countries_inputDB[key] = []\n",
    "    widgets = ['Prepare inputDB.csv: ', pbar.Percentage(), ' ', pbar.Bar(marker='-',left='[',right=']'), ' ', pbar.ETA(), ' ', pbar.Timer()]\n",
    "    bar = pbar.ProgressBar(widgets=widgets, maxval=number_of_rows + 1)\n",
    "    bar.start()\n",
    "    with ExitStack() as stack:\n",
    "        writer_dict = {}\n",
    "        for country, file_list in countries_inputDB.items():\n",
    "            file_list = [stack.enter_context(open(f'{data_dir_path}/{country}/{file_name}', 'w')) for file_name in file_names]\n",
    "            writer_dict[country] = [csv.writer(file, delimiter=',') for file in file_list]\n",
    "            writer_dict[country][0].writerow(['date', 'location', 'location_name', 'sex', 'Age group', 'value'])\n",
    "            writer_dict[country][1].writerow(['date', 'location', 'location_name', 'sex', 'Age group', 'value'])\n",
    "            writer_dict[country][2].writerow(['date', 'location', 'location_name', 'sex', 'Age group', 'value'])\n",
    "            writer_dict[country][3].writerow(columns)\n",
    "        read = stack.enter_context(open(data_files['inputDB'], 'r'))\n",
    "        reader = csv.reader(read)\n",
    "        \n",
    "        for index, row in enumerate(reader):\n",
    "            if index in [0, 1] or row[0] == '1':\n",
    "                continue\n",
    "            if row[0] == '':\n",
    "                row[0] = 'USA'\n",
    "            current_country = row[0] \n",
    "            writer_dict[current_country][3].writerow(row)\n",
    "            if row[7] == 'Count' and row[8] in ['Cases', 'Deaths', 'Tests']:\n",
    "                date = datetime.datetime.strptime(row[3], '%d.%m.%Y').strftime(\"%Y-%m-%d\")\n",
    "                location_name = row[1] if row[1] != 'All' else row[0]\n",
    "                row_to_save = [date, row[10], location_name, row[4], row[5], row[9]]\n",
    "                if row[8] == 'Cases':\n",
    "                    writer_dict[current_country][0].writerow(row_to_save)\n",
    "                elif row[8] == 'Deaths':\n",
    "                    writer_dict[current_country][1].writerow(row_to_save)   \n",
    "                elif row[8] == 'Tests':\n",
    "                    writer_dict[current_country][2].writerow(row_to_save)\n",
    "            bar.update(index)\n",
    "        bar.finish()"
   ]
  },
  {
   "cell_type": "code",
   "execution_count": 8,
   "id": "122b629d-ca19-4729-a282-5c5f59047776",
   "metadata": {
    "tags": []
   },
   "outputs": [],
   "source": [
    "def prepare_data_output5():\n",
    "    file_names = ['cases_5.csv', 'deaths_5.csv', 'tests_5.csv']\n",
    "    countries_inputDB = {}\n",
    "    for key in countries.keys():\n",
    "        if key == '' or key == '1':\n",
    "            continue\n",
    "        countries_inputDB[key] = []\n",
    "    widgets = ['Prepare Output_5.csv: ', pbar.Percentage(), ' ', pbar.Bar(marker='-',left='[',right=']'), ' ', pbar.ETA(), ' ', pbar.Timer()]\n",
    "    bar = pbar.ProgressBar(widgets=widgets, maxval=number_of_rows + 1)\n",
    "    bar.start()\n",
    "    with ExitStack() as stack:\n",
    "        writer_dict = {}\n",
    "        for country, file_list in countries_inputDB.items():\n",
    "            file_list = [stack.enter_context(open(f'{data_dir_path}/{country}/{file_name}', 'w')) for file_name in file_names]\n",
    "            writer_dict[country] = [csv.writer(file, delimiter=',') for file in file_list]\n",
    "\n",
    "        read = stack.enter_context(open(data_files['output_5'], 'r'))\n",
    "        reader = csv.reader(read)\n",
    "        \n",
    "        for index, row in enumerate(reader):\n",
    "            if index in [0, 1, 2] or row[0] == '1':\n",
    "                continue\n",
    "            if index == 3:\n",
    "                for country in countries.keys():\n",
    "                    if country in ['', '1']:\n",
    "                        continue\n",
    "                    writer_dict[country][0].writerow(row[:8])\n",
    "                    writer_dict[country][1].writerow(row[:7] + [row[8]])\n",
    "                    writer_dict[country][2].writerow(row[:7] + [row[9]])\n",
    "                continue\n",
    "            if row[0] == '':\n",
    "                row[0] = 'USA'\n",
    "            current_country = row[0] \n",
    "            writer_dict[current_country][0].writerow(row[:8])\n",
    "            writer_dict[current_country][1].writerow(row[:7] + [row[8]])\n",
    "            writer_dict[current_country][2].writerow(row[:7] + [row[9]])\n",
    "            bar.update(index)\n",
    "        bar.finish()"
   ]
  },
  {
   "cell_type": "code",
   "execution_count": 9,
   "id": "36cfcc58-218c-4069-8ed5-4b88c7ac074a",
   "metadata": {
    "tags": []
   },
   "outputs": [],
   "source": [
    "def prepare_data_output10():\n",
    "    file_names = ['cases_10.csv', 'deaths_10.csv', 'tests_10.csv']\n",
    "    countries_inputDB = {}\n",
    "    for key in countries.keys():\n",
    "        if key == '' or key == '1':\n",
    "            continue\n",
    "        countries_inputDB[key] = []\n",
    "    widgets = ['Prepare Output_10.csv: ', pbar.Percentage(), ' ', pbar.Bar(marker='-',left='[',right=']'), ' ', pbar.ETA(), ' ', pbar.Timer()]\n",
    "    bar = pbar.ProgressBar(widgets=widgets, maxval=number_of_rows + 1)\n",
    "    bar.start()\n",
    "    with ExitStack() as stack:\n",
    "        writer_dict = {}\n",
    "        for country, file_list in countries_inputDB.items():\n",
    "            file_list = [stack.enter_context(open(f'{data_dir_path}/{country}/{file_name}', 'w')) for file_name in file_names]\n",
    "            writer_dict[country] = [csv.writer(file, delimiter=',') for file in file_list]\n",
    "\n",
    "        read = stack.enter_context(open(data_files['output_10'], 'r'))\n",
    "        reader = csv.reader(read)\n",
    "        \n",
    "        for index, row in enumerate(reader):\n",
    "            if index in [0, 1, 2] or row[0] == '1':\n",
    "                continue\n",
    "            if index == 3:\n",
    "                for country in countries.keys():\n",
    "                    if country in ['', '1']:\n",
    "                        continue\n",
    "                    writer_dict[country][0].writerow(row[:8])\n",
    "                    writer_dict[country][1].writerow(row[:7] + [row[8]])\n",
    "                    writer_dict[country][2].writerow(row[:7] + [row[9]])\n",
    "                continue\n",
    "            if row[0] == '':\n",
    "                row[0] = 'USA'\n",
    "            current_country = row[0] \n",
    "            writer_dict[current_country][0].writerow(row[:8])\n",
    "            writer_dict[current_country][1].writerow(row[:7] + [row[8]])\n",
    "            writer_dict[current_country][2].writerow(row[:7] + [row[9]])\n",
    "            bar.update(index)\n",
    "        bar.finish()"
   ]
  },
  {
   "cell_type": "code",
   "execution_count": 10,
   "id": "5548629e-ab87-439d-8429-d3e495274a31",
   "metadata": {},
   "outputs": [],
   "source": [
    "def prepare_data_population():\n",
    "    file_names = ['population.csv']\n",
    "    countries_inputDB = {}\n",
    "    for key in countries.keys():\n",
    "        if key == '' or key == '1':\n",
    "            continue\n",
    "        countries_inputDB[key] = []\n",
    "    widgets = ['Prepare population.csv: ', pbar.Percentage(), ' ', pbar.Bar(marker='-',left='[',right=']'), ' ', pbar.ETA(), ' ', pbar.Timer()]\n",
    "    bar = pbar.ProgressBar(widgets=widgets, maxval=number_of_rows + 1)\n",
    "    bar.start()\n",
    "    with ExitStack() as stack:\n",
    "        writer_dict = {}\n",
    "        for country, file_list in countries_inputDB.items():\n",
    "            file_list = [stack.enter_context(open(f'{data_dir_path}/{country}/{file_name}', 'w')) for file_name in file_names]\n",
    "            writer_dict[country] = [csv.writer(file, delimiter=',') for file in file_list]\n",
    "\n",
    "        read = stack.enter_context(open(data_files['population'], 'r'))\n",
    "        reader = csv.reader(read)\n",
    "        \n",
    "        for index, row in enumerate(reader):\n",
    "            if index in [0] or row[0] == '1':\n",
    "                continue\n",
    "            if index == 1:\n",
    "                for country in countries.keys():\n",
    "                    if country in ['', '1']:\n",
    "                        continue\n",
    "                    writer_dict[country][0].writerow(row)\n",
    "                continue\n",
    "            current_country = row[2]\n",
    "            if current_country in countries.keys():\n",
    "                if row[3] == 'All':\n",
    "                    row[3] = current_country\n",
    "                writer_dict[current_country][0].writerow(row)\n",
    "            bar.update(index)\n",
    "        bar.finish()"
   ]
  },
  {
   "cell_type": "code",
   "execution_count": 11,
   "id": "1831ec44-d5ef-4778-a0f6-73fe414ed3a0",
   "metadata": {},
   "outputs": [
    {
     "name": "stderr",
     "output_type": "stream",
     "text": [
      "Prepare Output_5.csv: 100% [-------------] Time:  0:02:15 Elapsed Time: 0:02:15\n",
      "Prepare population.csv: 100% [-----------] Time:  0:00:00 Elapsed Time: 0:00:00\n"
     ]
    }
   ],
   "source": [
    "# prepare_data_inputDB()\n",
    "prepare_data_output5()\n",
    "# prepare_data_output10()\n",
    "prepare_data_population()"
   ]
  },
  {
   "cell_type": "code",
   "execution_count": 12,
   "id": "7b7f28ab-4394-4b39-b614-6ce3ef3269c5",
   "metadata": {},
   "outputs": [],
   "source": [
    "for country in countries.keys():\n",
    "    df = pd.read_csv(f'{data_dir_path}/{country}/population.csv')\n",
    "    new_df = pd.DataFrame({'Age': df['Age'].unique()})\n",
    "    for i, region in enumerate(df['Region'].unique()):\n",
    "        new_df.insert(i + 1, region, list(df[np.logical_and(df['Region'] == region, df['Sex'] == 'b')]['Population']), True)\n",
    "    new_df.to_csv(f'{data_dir_path}/{country}/population.csv', index=False)"
   ]
  },
  {
   "cell_type": "code",
   "execution_count": null,
   "id": "1c70d8d8-31cc-43ec-b01f-e3b34dcbe380",
   "metadata": {},
   "outputs": [],
   "source": []
  }
 ],
 "metadata": {
  "kernelspec": {
   "display_name": "Python 3 (ipykernel)",
   "language": "python",
   "name": "python3"
  },
  "language_info": {
   "codemirror_mode": {
    "name": "ipython",
    "version": 3
   },
   "file_extension": ".py",
   "mimetype": "text/x-python",
   "name": "python",
   "nbconvert_exporter": "python",
   "pygments_lexer": "ipython3",
   "version": "3.9.7"
  }
 },
 "nbformat": 4,
 "nbformat_minor": 5
}
