{
 "cells": [
  {
   "cell_type": "code",
   "execution_count": 1,
   "id": "5dc867eb-f244-4a39-80bf-cdd2c5f6fa23",
   "metadata": {},
   "outputs": [],
   "source": [
    "import pandas as pd\n",
    "import os\n",
    "import numpy as np\n",
    "import epiweeks\n",
    "import datetime\n",
    "import requests\n",
    "import zipfile\n",
    "import csv\n",
    "from contextlib import ExitStack\n",
    "import progressbar as pbar\n",
    "import matplotlib.pyplot as plt\n",
    "import matplotlib.dates as mdates\n",
    "import json"
   ]
  },
  {
   "cell_type": "code",
   "execution_count": 2,
   "id": "cc148d6b-8954-416c-9e95-f65eba514efb",
   "metadata": {},
   "outputs": [
    {
     "name": "stdout",
     "output_type": "stream",
     "text": [
      "Covid data downloaded\n"
     ]
    }
   ],
   "source": [
    "# Download and unzip covid data\n",
    "ids = {'output_5': '7tnfh',}\n",
    "for data_name, data_id in ids.items():\n",
    "    link = f'https://osf.io/{data_id}/download'\n",
    "    downloaded_data = requests.get(link)\n",
    "    with open('data/tmp.zip', 'wb') as file:\n",
    "        file.write(downloaded_data.content)\n",
    "    with zipfile.ZipFile('data/tmp.zip', 'r') as zip_ref:\n",
    "        zip_ref.extractall('data/')\n",
    "    os.remove('data/tmp.zip')\n",
    "    data_file = f'data/Data/{data_name}.csv'\n",
    "print('Covid data downloaded')"
   ]
  },
  {
   "cell_type": "code",
   "execution_count": 3,
   "id": "c839fcb5-8907-43d2-b142-2df27a648cc7",
   "metadata": {
    "tags": []
   },
   "outputs": [
    {
     "name": "stdout",
     "output_type": "stream",
     "text": [
      "Population data downloaded\n",
      "Deaths data downloaded\n"
     ]
    }
   ],
   "source": [
    "# Download data file (population and deaths from Eurostat)\n",
    "population_link = 'https://ec.europa.eu/eurostat/api/dissemination/sdmx/2.1/data/DEMO_PJAN/?format=SDMX-CSV&lang=en&label=both'\n",
    "downloaded_data = requests.get(population_link)\n",
    "with open('data/Data/old_population.csv', 'wb') as file:\n",
    "    file.write(downloaded_data.content)\n",
    "print('Population data downloaded')\n",
    "\n",
    "deaths_data_link = 'https://ec.europa.eu/eurostat/api/dissemination/sdmx/2.1/data/DEMO_R_MWK2_05/?format=SDMX-CSV&lang=en&label=both'\n",
    "downloaded_data = requests.get(deaths_data_link)\n",
    "with open('data/Data/old_deaths.csv', 'wb') as file:\n",
    "    file.write(downloaded_data.content)\n",
    "print('Deaths data downloaded')"
   ]
  }
 ],
 "metadata": {
  "kernelspec": {
   "display_name": "Python 3 (ipykernel)",
   "language": "python",
   "name": "python3"
  },
  "language_info": {
   "codemirror_mode": {
    "name": "ipython",
    "version": 3
   },
   "file_extension": ".py",
   "mimetype": "text/x-python",
   "name": "python",
   "nbconvert_exporter": "python",
   "pygments_lexer": "ipython3",
   "version": "3.9.7"
  },
  "toc-showcode": true
 },
 "nbformat": 4,
 "nbformat_minor": 5
}
