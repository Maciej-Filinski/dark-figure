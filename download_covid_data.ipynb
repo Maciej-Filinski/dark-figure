{
 "cells": [
  {
   "cell_type": "code",
   "execution_count": 1,
   "id": "fe08cc2a-3869-4cf3-bcb7-68218af92d32",
   "metadata": {},
   "outputs": [],
   "source": [
    "import pandas as pd\n",
    "import os\n",
    "import numpy as np\n",
    "import epiweeks\n",
    "import datetime\n",
    "import requests\n",
    "import zipfile\n",
    "import csv\n",
    "from contextlib import ExitStack\n",
    "import progressbar as pbar\n",
    "import matplotlib.pyplot as plt\n",
    "import matplotlib.dates as mdates\n",
    "import json\n",
    "import warnings\n",
    "warnings.filterwarnings('ignore')"
   ]
  },
  {
   "cell_type": "code",
   "execution_count": 2,
   "id": "05b9808b-f669-4e5e-9155-95fb6a662bb7",
   "metadata": {},
   "outputs": [],
   "source": [
    "today = datetime.date.today().strftime(\"%d-%m-%Y\")\n",
    "data_dir_path = f'data/World/{today}'\n",
    "if not os.path.exists(f'{data_dir_path}'):\n",
    "        os.mkdir(f'{data_dir_path}')"
   ]
  },
  {
   "cell_type": "code",
   "execution_count": 3,
   "id": "a23ad902-ea4e-4519-853e-cc92838cd28e",
   "metadata": {},
   "outputs": [],
   "source": [
    "# GERMANY\n",
    "country = 'Germany'\n",
    "if not os.path.exists(f'{data_dir_path}/{country}'):\n",
    "    os.mkdir(f'{data_dir_path}/{country}')\n",
    "\n",
    "cases_csv = 'https://raw.githubusercontent.com/KITmetricslab/covid19-forecast-hub-de/master/data-truth/RKI/by_age/truth_RKI-Incident%20Cases%20by%20Age_Germany.csv'\n",
    "cases = pd.read_csv(cases_csv)\n",
    "cases['age_group'].replace(dict([['A00-A04', '00-04'], ['A05-A14', '05-14'], ['A15-A34', '15-34'], ['A35-A59', '35-59'], ['A60-A79', '60-79'], ['A80+', '80+']]), inplace=True)\n",
    "cases = cases.drop(cases.loc[cases['age_group']=='unbekannt'].index)\n",
    "cases = cases.drop(columns='location_name').rename(columns={'age_group': 'Age group', 'location': 'location_name'})\n",
    "cases['location_name'] = cases['location_name'].apply(lambda x: 'DE'+x[2:])\n",
    "cases.to_csv(f'{data_dir_path}/{country}/covid_cases.csv')\n",
    "\n",
    "deaths_csv = 'https://raw.githubusercontent.com/KITmetricslab/covid19-forecast-hub-de/master/data-truth/RKI/by_age/truth_RKI-Incident%20Deaths%20by%20Age_Germany.csv'\n",
    "deaths = pd.read_csv(deaths_csv)\n",
    "deaths.loc[deaths['location_name'] == 'Free State of Thuringia', 'location_name'] = 'Free State of Thüringia'\n",
    "deaths['age_group'].replace(dict([['A00-A04', '00-04'], ['A05-A14', '05-14'], ['A15-A34', '15-34'], ['A35-A59', '35-59'], ['A60-A79', '60-79'], ['A80+', '80+']]), inplace=True)\n",
    "deaths = deaths.drop(deaths.loc[deaths['age_group']=='unbekannt'].index)\n",
    "deaths = deaths.drop(columns='location_name').rename(columns={'age_group': 'Age group', 'location': 'location_name'})\n",
    "deaths['location_name'] = deaths['location_name'].apply(lambda x: 'DE'+x[2:])\n",
    "deaths.to_csv(f'{data_dir_path}/{country}/covid_deaths.csv')"
   ]
  },
  {
   "cell_type": "code",
   "execution_count": null,
   "id": "fd3002fc-b1ad-4a8f-b10f-491efb07a6f0",
   "metadata": {},
   "outputs": [],
   "source": []
  }
 ],
 "metadata": {
  "kernelspec": {
   "display_name": "Python 3 (ipykernel)",
   "language": "python",
   "name": "python3"
  },
  "language_info": {
   "codemirror_mode": {
    "name": "ipython",
    "version": 3
   },
   "file_extension": ".py",
   "mimetype": "text/x-python",
   "name": "python",
   "nbconvert_exporter": "python",
   "pygments_lexer": "ipython3",
   "version": "3.9.7"
  }
 },
 "nbformat": 4,
 "nbformat_minor": 5
}
