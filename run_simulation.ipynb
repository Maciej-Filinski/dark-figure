{
 "cells": [
  {
   "cell_type": "code",
   "execution_count": 1,
   "id": "5dc867eb-f244-4a39-80bf-cdd2c5f6fa23",
   "metadata": {},
   "outputs": [],
   "source": [
    "import pandas as pd\n",
    "import os\n",
    "import numpy as np\n",
    "import epiweeks\n",
    "import datetime\n",
    "import requests\n",
    "import zipfile\n",
    "import csv\n",
    "from contextlib import ExitStack\n",
    "import progressbar as pbar\n",
    "import matplotlib.pyplot as plt\n",
    "import matplotlib.dates as mdates\n",
    "import json"
   ]
  },
  {
   "cell_type": "code",
   "execution_count": 3,
   "id": "cc148d6b-8954-416c-9e95-f65eba514efb",
   "metadata": {},
   "outputs": [
    {
     "name": "stdout",
     "output_type": "stream",
     "text": [
      "Population downloaded\n",
      "Deaths downloaded\n"
     ]
    }
   ],
   "source": [
    "# Download and unzip data file (population and deaths from Eurostat)\n",
    "population_link = 'https://ec.europa.eu/eurostat/api/dissemination/sdmx/2.1/data/DEMO_R_PJANGROUP/?format=SDMX-CSV&lang=en&label=both'\n",
    "downloaded_data = requests.get(population_link)\n",
    "with open('data/Data/old_population.csv', 'wb') as file:\n",
    "    file.write(downloaded_data.content)\n",
    "print('Population downloaded')\n",
    "\n",
    "deaths_data_link = 'https://ec.europa.eu/eurostat/api/dissemination/sdmx/2.1/data/DEMO_R_MWK2_05/?format=SDMX-CSV&lang=en&label=both'\n",
    "downloaded_data = requests.get(deaths_data_link)\n",
    "with open('data/Data/old_deaths.csv', 'wb') as file:\n",
    "    file.write(downloaded_data.content)\n",
    "print('Deaths downloaded')"
   ]
  },
  {
   "cell_type": "code",
   "execution_count": 3,
   "id": "c839fcb5-8907-43d2-b142-2df27a648cc7",
   "metadata": {
    "tags": []
   },
   "outputs": [
    {
     "name": "stdout",
     "output_type": "stream",
     "text": [
      "Population downloaded\n",
      "Deaths downloaded\n",
      "Population files prepared\n",
      "Deaths files prepared\n"
     ]
    }
   ],
   "source": [
    "%run prepare_data.ipynb"
   ]
  },
  {
   "cell_type": "code",
   "execution_count": 1,
   "id": "77b799f7-4e50-4634-ba5c-32d62bb22f60",
   "metadata": {},
   "outputs": [],
   "source": [
    "# %run prepare_covid_data.ipynb"
   ]
  },
  {
   "cell_type": "code",
   "execution_count": 4,
   "id": "230ec0d4-897b-4fc9-993d-76837845caa7",
   "metadata": {},
   "outputs": [
    {
     "name": "stderr",
     "output_type": "stream",
     "text": [
      "Time:  0:07:56 Elapsed Time: 0:07:56  (100%)   Country: Spain Running: Ploting result                                             \n"
     ]
    },
    {
     "name": "stdout",
     "output_type": "stream",
     "text": [
      "Simulation done\n"
     ]
    }
   ],
   "source": [
    "%run simulation.ipynb"
   ]
  }
 ],
 "metadata": {
  "kernelspec": {
   "display_name": "Python 3 (ipykernel)",
   "language": "python",
   "name": "python3"
  },
  "language_info": {
   "codemirror_mode": {
    "name": "ipython",
    "version": 3
   },
   "file_extension": ".py",
   "mimetype": "text/x-python",
   "name": "python",
   "nbconvert_exporter": "python",
   "pygments_lexer": "ipython3",
   "version": "3.9.7"
  }
 },
 "nbformat": 4,
 "nbformat_minor": 5
}
