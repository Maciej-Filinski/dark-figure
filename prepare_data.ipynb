{
 "cells": [
  {
   "cell_type": "code",
   "execution_count": 1,
   "id": "821bbdbe-5736-4548-b007-f57f5d805100",
   "metadata": {},
   "outputs": [],
   "source": [
    "import pandas as pd\n",
    "import os\n",
    "import numpy as np\n",
    "import epiweeks\n",
    "import datetime\n",
    "import requests\n",
    "import zipfile\n",
    "import gzip\n",
    "import csv\n",
    "from contextlib import ExitStack\n",
    "import progressbar as pbar\n",
    "import eurostat\n",
    "import json"
   ]
  },
  {
   "cell_type": "code",
   "execution_count": 2,
   "id": "fe1226b7-bdba-45f9-b1f8-2832b83f2078",
   "metadata": {
    "tags": []
   },
   "outputs": [],
   "source": [
    "today = datetime.date.today().strftime(\"%d-%m-%Y\")\n",
    "data_dir_path = f'data/World/{today}'\n",
    "if not os.path.exists(f'{data_dir_path}'):\n",
    "        os.mkdir(f'{data_dir_path}')"
   ]
  },
  {
   "cell_type": "code",
   "execution_count": 3,
   "id": "138552d9-95a8-40d8-8934-c5e1b666c7cb",
   "metadata": {},
   "outputs": [],
   "source": [
    "read = open('data/Data/old_population.csv', 'r', encoding='utf-8')\n",
    "reader = csv.reader(read)\n",
    "countries = {}\n",
    "for index, row in enumerate(reader):\n",
    "    if index in [0]:\n",
    "        continue\n",
    "    short, country = row[6].split(':')\n",
    "    if len(short) == 2 and country not in countries.keys():\n",
    "        if short == 'DE':\n",
    "            countries['Germany'] = short\n",
    "        else:\n",
    "            countries[country] = short\n",
    "with open(f'{data_dir_path}/eurostat_countries.json', 'w') as file:\n",
    "    json.dump(countries, file, indent=4)"
   ]
  },
  {
   "cell_type": "code",
   "execution_count": 4,
   "id": "b340c5d2-8121-456b-a615-71821cd31b95",
   "metadata": {},
   "outputs": [
    {
     "name": "stdout",
     "output_type": "stream",
     "text": [
      "Population files prepared\n"
     ]
    }
   ],
   "source": [
    "file_name = 'old_population.csv'\n",
    "with ExitStack() as stack:\n",
    "    writer_dict = {}\n",
    "    for country in countries.keys():\n",
    "        if not os.path.exists(f'{data_dir_path}/{country}'):\n",
    "            os.mkdir(f'{data_dir_path}/{country}')\n",
    "        file_list = stack.enter_context(open(f'{data_dir_path}/{country}/{file_name}', 'w'))\n",
    "        writer_dict[countries[country]] = csv.writer(file_list, delimiter=',')\n",
    "        writer_dict[countries[country]].writerow(['Year', 'Region', 'Age group', 'Sex', 'Value'])\n",
    "    read = stack.enter_context(open('data/Data/old_population.csv', 'r', encoding='utf-8'))\n",
    "    reader = csv.reader(read)\n",
    "    for index, row in enumerate(reader):\n",
    "        if index in [0]:\n",
    "            continue\n",
    "        if row[7] >= str(2015) and row[6][:2] in writer_dict.keys():\n",
    "            writer_dict[row[6][:2]].writerow([row[7], row[6].split(':')[0], row[5].split(':')[0], row[4].split(':')[0], row[8]])\n",
    "print('Population files prepared')"
   ]
  },
  {
   "cell_type": "code",
   "execution_count": 5,
   "id": "6fa1c778-d22f-4248-ae75-4ae77d727b3b",
   "metadata": {},
   "outputs": [
    {
     "name": "stdout",
     "output_type": "stream",
     "text": [
      "Deaths files prepared\n"
     ]
    }
   ],
   "source": [
    "file_name = 'old_deaths.csv'\n",
    "with ExitStack() as stack:\n",
    "    writer_dict = {}\n",
    "    for country in countries.keys():\n",
    "        file_list = stack.enter_context(open(f'{data_dir_path}/{country}/{file_name}', 'w'))\n",
    "        writer_dict[countries[country]] = csv.writer(file_list, delimiter=',')\n",
    "        writer_dict[countries[country]].writerow(['Year', 'Region', 'Age group', 'Sex', 'Value'])\n",
    "    read = stack.enter_context(open('data/Data/old_deaths.csv', 'r', encoding='utf-8'))\n",
    "    reader = csv.reader(read)\n",
    "    for index, row in enumerate(reader):\n",
    "        if index in [0]:\n",
    "            continue\n",
    "        if row[7][:4] >= str(2015) and row[6][:2] in writer_dict.keys():\n",
    "            writer_dict[row[6][:2]].writerow([row[7], row[6].split(':')[0], row[3].split(':')[0], row[4].split(':')[0], row[8]])\n",
    "print('Deaths files prepared')"
   ]
  },
  {
   "cell_type": "code",
   "execution_count": null,
   "id": "ff79e2d9-4f5e-460d-b32c-989e257eaa53",
   "metadata": {},
   "outputs": [],
   "source": []
  }
 ],
 "metadata": {
  "kernelspec": {
   "display_name": "Python 3 (ipykernel)",
   "language": "python",
   "name": "python3"
  },
  "language_info": {
   "codemirror_mode": {
    "name": "ipython",
    "version": 3
   },
   "file_extension": ".py",
   "mimetype": "text/x-python",
   "name": "python",
   "nbconvert_exporter": "python",
   "pygments_lexer": "ipython3",
   "version": "3.9.7"
  }
 },
 "nbformat": 4,
 "nbformat_minor": 5
}
