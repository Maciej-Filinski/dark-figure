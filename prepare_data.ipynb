{
 "cells": [
  {
   "cell_type": "code",
   "execution_count": 2,
   "id": "821bbdbe-5736-4548-b007-f57f5d805100",
   "metadata": {},
   "outputs": [],
   "source": [
    "import pandas as pd\n",
    "import os\n",
    "import numpy as np\n",
    "import epiweeks\n",
    "import datetime\n",
    "import requests\n",
    "import zipfile\n",
    "import gzip\n",
    "import csv\n",
    "from contextlib import ExitStack\n",
    "import progressbar as pbar\n",
    "import eurostat\n",
    "import json"
   ]
  },
  {
   "cell_type": "code",
   "execution_count": 4,
   "id": "332b9653-efac-4375-afa7-ffe1f2e8e68c",
   "metadata": {},
   "outputs": [],
   "source": [
    "today = datetime.date.today().strftime(\"%d-%m-%Y\")"
   ]
  },
  {
   "cell_type": "code",
   "execution_count": 3,
   "id": "5503ef43-d0bb-4b8f-a43b-e95be8d07536",
   "metadata": {
    "tags": []
   },
   "outputs": [
    {
     "name": "stdout",
     "output_type": "stream",
     "text": [
      "Population downloaded\n"
     ]
    }
   ],
   "source": [
    "population_link = 'https://ec.europa.eu/eurostat/api/dissemination/sdmx/2.1/data/DEMO_R_PJANGROUP/?format=SDMX-CSV&lang=en&label=both'\n",
    "downloaded_data = requests.get(population_link)\n",
    "with open('data/Data/old_population.csv', 'wb') as file:\n",
    "    file.write(downloaded_data.content)\n",
    "print('Population downloaded')"
   ]
  },
  {
   "cell_type": "code",
   "execution_count": 4,
   "id": "e68225fc-b194-4ea1-af4d-e59c678ded94",
   "metadata": {
    "tags": []
   },
   "outputs": [
    {
     "name": "stdout",
     "output_type": "stream",
     "text": [
      "Deaths downloaded\n"
     ]
    }
   ],
   "source": [
    "# Download and unzip data file\n",
    "deaths_data_link = 'https://ec.europa.eu/eurostat/api/dissemination/sdmx/2.1/data/DEMO_R_MWK2_05/?format=SDMX-CSV&lang=en&label=both'\n",
    "downloaded_data = requests.get(deaths_data_link)\n",
    "with open('data/Data/old_deaths.csv', 'wb') as file:\n",
    "    file.write(downloaded_data.content)\n",
    "print('Deaths downloaded')"
   ]
  },
  {
   "cell_type": "code",
   "execution_count": 5,
   "id": "fe1226b7-bdba-45f9-b1f8-2832b83f2078",
   "metadata": {
    "tags": []
   },
   "outputs": [],
   "source": [
    "data_dir_path = f'data/World/{today}'\n",
    "with open(f'{data_dir_path}/countries.json', 'r') as file:\n",
    "    countries = json.load(file)"
   ]
  },
  {
   "cell_type": "code",
   "execution_count": null,
   "id": "0acdd893-dca1-4bcd-8659-977cd97f1e74",
   "metadata": {},
   "outputs": [],
   "source": []
  }
 ],
 "metadata": {
  "kernelspec": {
   "display_name": "Python 3 (ipykernel)",
   "language": "python",
   "name": "python3"
  },
  "language_info": {
   "codemirror_mode": {
    "name": "ipython",
    "version": 3
   },
   "file_extension": ".py",
   "mimetype": "text/x-python",
   "name": "python",
   "nbconvert_exporter": "python",
   "pygments_lexer": "ipython3",
   "version": "3.9.7"
  }
 },
 "nbformat": 4,
 "nbformat_minor": 5
}
